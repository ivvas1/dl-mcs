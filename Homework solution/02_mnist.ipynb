{
  "cells": [
    {
      "cell_type": "markdown",
      "metadata": {
        "id": "szmc6OhomtWY"
      },
      "source": [
        "## Обучаем первую модель на MNIST"
      ]
    },
    {
      "cell_type": "markdown",
      "metadata": {
        "id": "2KgCkzhimtWb"
      },
      "source": [
        "План на сегодня: пишем первый пайплайн для обучения\n",
        "\n",
        "1. Пытаемся понять, какие компоненты нам нужны для обучения любой модели\n",
        "2. Выясняем, что многое уже есть в Pytorch\n",
        "3. Собираем наш первый скрипт для обучения на датасете MNIST"
      ]
    },
    {
      "cell_type": "markdown",
      "metadata": {
        "id": "XCj3qlE_mtWc"
      },
      "source": [
        "### 1. Разбираемся с данными\n",
        "\n",
        "https://pytorch.org/tutorials/beginner/basics/data_tutorial.html"
      ]
    },
    {
      "cell_type": "markdown",
      "metadata": {
        "id": "y_pu35I_mtWc"
      },
      "source": [
        "#### 1.1. Организуем доступ к данным с `torch.utils.data.Dataset`"
      ]
    },
    {
      "cell_type": "markdown",
      "metadata": {
        "id": "glF1WHM4mtWd"
      },
      "source": [
        "Датасет в pytorch - это объект класса, в котором реализовано два обязательных метода: `__getitem__(self, index: int)` (получение одиночного примера по индексу) и `__len__(self)` (получение общего количества примеров). Этих методов достаточно, чтобы разбивать датасет на минибатчи  - это работу делает класс `torch.utils.DataLoader` с помощью различных семплеров, с ними мы понакомимся позже"
      ]
    },
    {
      "cell_type": "code",
      "execution_count": 1,
      "metadata": {
        "id": "nIOe4rVXmtWd",
        "outputId": "5273a915-3bf0-49a0-8d4c-2873268060d2",
        "colab": {
          "base_uri": "https://localhost:8080/"
        }
      },
      "outputs": [
        {
          "output_type": "execute_result",
          "data": {
            "text/plain": [
              "<torch._C.Generator at 0x7d3762b9c990>"
            ]
          },
          "metadata": {},
          "execution_count": 1
        }
      ],
      "source": [
        "import torch\n",
        "\n",
        "torch.manual_seed(42)"
      ]
    },
    {
      "cell_type": "code",
      "execution_count": 2,
      "metadata": {
        "id": "Zr9MzsPnmtWe",
        "outputId": "916d3e78-6866-4fe4-b004-d28ce8c4b382",
        "colab": {
          "base_uri": "https://localhost:8080/"
        }
      },
      "outputs": [
        {
          "output_type": "stream",
          "name": "stdout",
          "text": [
            "(tensor([0, 1, 2]), tensor(2))\n",
            "10\n"
          ]
        }
      ],
      "source": [
        "from torch.utils.data import Dataset\n",
        "\n",
        "\n",
        "class MyDataset(Dataset):\n",
        "    def __init__(self, n: int) -> None:\n",
        "        super().__init__()\n",
        "        self.data = torch.arange(n * 3).view((n, 3))\n",
        "        self.labels = torch.randint(0, 5, size=(n,))\n",
        "\n",
        "    def __getitem__(self, index: int) -> tuple[torch.Tensor, torch.Tensor]:\n",
        "        return self.data[index], self.labels[index]\n",
        "\n",
        "    def __len__(self) -> int:\n",
        "        return len(self.data)\n",
        "\n",
        "\n",
        "dataset = MyDataset(n=10)\n",
        "print(dataset[0])\n",
        "print(len(dataset))"
      ]
    },
    {
      "cell_type": "markdown",
      "metadata": {
        "id": "YQ7DspSzmtWf"
      },
      "source": [
        "Итерируемся по датасету:"
      ]
    },
    {
      "cell_type": "code",
      "execution_count": 3,
      "metadata": {
        "id": "pK0kCakOmtWf",
        "outputId": "ed8b00fa-da27-4ca1-ab5b-ba8e808417c1",
        "colab": {
          "base_uri": "https://localhost:8080/"
        }
      },
      "outputs": [
        {
          "output_type": "stream",
          "name": "stdout",
          "text": [
            "(tensor([0, 1, 2]), tensor(3))\n",
            "(tensor([3, 4, 5]), tensor(4))\n",
            "(tensor([6, 7, 8]), tensor(0))\n",
            "(tensor([ 9, 10, 11]), tensor(4))\n",
            "(tensor([12, 13, 14]), tensor(1))\n",
            "(tensor([15, 16, 17]), tensor(2))\n",
            "(tensor([18, 19, 20]), tensor(0))\n",
            "(tensor([21, 22, 23]), tensor(0))\n",
            "(tensor([24, 25, 26]), tensor(2))\n",
            "(tensor([27, 28, 29]), tensor(1))\n"
          ]
        }
      ],
      "source": [
        "dataset = MyDataset(10)\n",
        "for i in range(len(dataset)):\n",
        "    print(dataset[i])"
      ]
    },
    {
      "cell_type": "markdown",
      "metadata": {
        "id": "SV3wjpjWmtWg"
      },
      "source": [
        "#### 1.2. Пакуем данные в батчи с `torch.utils.data.Dataloader`"
      ]
    },
    {
      "cell_type": "markdown",
      "metadata": {
        "id": "FBym2EPLmtWg"
      },
      "source": [
        "У `torch.utils.data.Dataloader` много аргументов, на практике чаще всего используются\n",
        "- `dataset` - объект, поддерживающий методы `__getitem__` и `__len__` (вопрос: можно ли передать список? словарь? множество?)\n",
        "- `batch_size` - размер мини-батча\n",
        "- `shuffle` - нужно ли перетасовать индексы перед нарезкой на минибатчи (это всегда стоит делать с обучающими данными, почему?)\n",
        "- `num_workers` - количество процессов, которые будут загружать данные - иногда позволяет ускорить обучение (подумайте, в каком случае?)"
      ]
    },
    {
      "cell_type": "code",
      "execution_count": 4,
      "metadata": {
        "id": "f3zVvmLtmtWg"
      },
      "outputs": [],
      "source": [
        "from torch.utils.data import DataLoader\n",
        "\n",
        "my_loader = DataLoader(\n",
        "    dataset=dataset,\n",
        "    batch_size=4,\n",
        "    shuffle=True,\n",
        "    # drop_last=\n",
        ")"
      ]
    },
    {
      "cell_type": "code",
      "execution_count": 5,
      "metadata": {
        "id": "SU9fMp6vmtWg",
        "outputId": "2289abb8-014f-4f61-9d31-c56603c0232e",
        "colab": {
          "base_uri": "https://localhost:8080/"
        }
      },
      "outputs": [
        {
          "output_type": "stream",
          "name": "stdout",
          "text": [
            "tensor([[24, 25, 26],\n",
            "        [ 6,  7,  8],\n",
            "        [21, 22, 23],\n",
            "        [15, 16, 17]])\n",
            "tensor([2, 0, 0, 2])\n"
          ]
        }
      ],
      "source": [
        "for i, batch in enumerate(my_loader):\n",
        "    x, y = batch\n",
        "    if i == 0:\n",
        "        print(x)\n",
        "        print(y)"
      ]
    },
    {
      "cell_type": "markdown",
      "metadata": {
        "id": "LXclPH_pmtWg"
      },
      "source": [
        "#### 1.3. Посмотрим на MNIST\n",
        "\n",
        "- какие атрибуты есть у объекта `torchvision.datasets.MNIST`?\n",
        "- как выглядит одно наблюдение?"
      ]
    },
    {
      "cell_type": "code",
      "execution_count": 6,
      "metadata": {
        "id": "P0-E6U2VmtWh",
        "outputId": "35bfb457-a998-4adc-befb-f7d2df3046a0",
        "colab": {
          "base_uri": "https://localhost:8080/"
        }
      },
      "outputs": [
        {
          "output_type": "stream",
          "name": "stdout",
          "text": [
            "Downloading http://yann.lecun.com/exdb/mnist/train-images-idx3-ubyte.gz\n",
            "Failed to download (trying next):\n",
            "HTTP Error 403: Forbidden\n",
            "\n",
            "Downloading https://ossci-datasets.s3.amazonaws.com/mnist/train-images-idx3-ubyte.gz\n",
            "Downloading https://ossci-datasets.s3.amazonaws.com/mnist/train-images-idx3-ubyte.gz to data/MNIST/raw/train-images-idx3-ubyte.gz\n"
          ]
        },
        {
          "output_type": "stream",
          "name": "stderr",
          "text": [
            "100%|██████████| 9912422/9912422 [00:00<00:00, 14310091.98it/s]\n"
          ]
        },
        {
          "output_type": "stream",
          "name": "stdout",
          "text": [
            "Extracting data/MNIST/raw/train-images-idx3-ubyte.gz to data/MNIST/raw\n",
            "\n",
            "Downloading http://yann.lecun.com/exdb/mnist/train-labels-idx1-ubyte.gz\n",
            "Failed to download (trying next):\n",
            "HTTP Error 403: Forbidden\n",
            "\n",
            "Downloading https://ossci-datasets.s3.amazonaws.com/mnist/train-labels-idx1-ubyte.gz\n",
            "Downloading https://ossci-datasets.s3.amazonaws.com/mnist/train-labels-idx1-ubyte.gz to data/MNIST/raw/train-labels-idx1-ubyte.gz\n"
          ]
        },
        {
          "output_type": "stream",
          "name": "stderr",
          "text": [
            "100%|██████████| 28881/28881 [00:00<00:00, 481980.57it/s]\n"
          ]
        },
        {
          "output_type": "stream",
          "name": "stdout",
          "text": [
            "Extracting data/MNIST/raw/train-labels-idx1-ubyte.gz to data/MNIST/raw\n",
            "\n",
            "Downloading http://yann.lecun.com/exdb/mnist/t10k-images-idx3-ubyte.gz\n",
            "Failed to download (trying next):\n",
            "HTTP Error 403: Forbidden\n",
            "\n",
            "Downloading https://ossci-datasets.s3.amazonaws.com/mnist/t10k-images-idx3-ubyte.gz\n",
            "Downloading https://ossci-datasets.s3.amazonaws.com/mnist/t10k-images-idx3-ubyte.gz to data/MNIST/raw/t10k-images-idx3-ubyte.gz\n"
          ]
        },
        {
          "output_type": "stream",
          "name": "stderr",
          "text": [
            "100%|██████████| 1648877/1648877 [00:00<00:00, 3748357.17it/s]\n"
          ]
        },
        {
          "output_type": "stream",
          "name": "stdout",
          "text": [
            "Extracting data/MNIST/raw/t10k-images-idx3-ubyte.gz to data/MNIST/raw\n",
            "\n",
            "Downloading http://yann.lecun.com/exdb/mnist/t10k-labels-idx1-ubyte.gz\n",
            "Failed to download (trying next):\n",
            "HTTP Error 403: Forbidden\n",
            "\n",
            "Downloading https://ossci-datasets.s3.amazonaws.com/mnist/t10k-labels-idx1-ubyte.gz\n",
            "Downloading https://ossci-datasets.s3.amazonaws.com/mnist/t10k-labels-idx1-ubyte.gz to data/MNIST/raw/t10k-labels-idx1-ubyte.gz\n"
          ]
        },
        {
          "output_type": "stream",
          "name": "stderr",
          "text": [
            "100%|██████████| 4542/4542 [00:00<00:00, 2230741.07it/s]"
          ]
        },
        {
          "output_type": "stream",
          "name": "stdout",
          "text": [
            "Extracting data/MNIST/raw/t10k-labels-idx1-ubyte.gz to data/MNIST/raw\n",
            "\n"
          ]
        },
        {
          "output_type": "stream",
          "name": "stderr",
          "text": [
            "\n"
          ]
        }
      ],
      "source": [
        "from torchvision import datasets, transforms\n",
        "\n",
        "train_dataset = datasets.MNIST(\n",
        "    \"data\",\n",
        "    train=True,\n",
        "    download=True,\n",
        "    transform=transforms.ToTensor(),  # что это?\n",
        ")\n",
        "test_dataset = datasets.MNIST(\n",
        "    \"data\",\n",
        "    train=False,\n",
        "    download=True,\n",
        "    transform=transforms.ToTensor(),\n",
        ")"
      ]
    },
    {
      "cell_type": "code",
      "execution_count": 7,
      "metadata": {
        "id": "eRYhf8hbmtWh",
        "outputId": "1024507c-e81d-4103-f9f6-9bc73684bac3",
        "colab": {
          "base_uri": "https://localhost:8080/"
        }
      },
      "outputs": [
        {
          "output_type": "execute_result",
          "data": {
            "text/plain": [
              "True"
            ]
          },
          "metadata": {},
          "execution_count": 7
        }
      ],
      "source": [
        "isinstance(train_dataset, Dataset)"
      ]
    },
    {
      "cell_type": "code",
      "execution_count": 8,
      "metadata": {
        "id": "Ffexg4zxmtWh",
        "outputId": "524f8b10-d1b8-4bf1-fdf6-35ce13b4d8a3",
        "colab": {
          "base_uri": "https://localhost:8080/"
        }
      },
      "outputs": [
        {
          "output_type": "stream",
          "name": "stdout",
          "text": [
            "torch.Size([1, 28, 28])\n",
            "5\n"
          ]
        }
      ],
      "source": [
        "x, y = train_dataset[0]\n",
        "print(x.shape)\n",
        "print(y)"
      ]
    },
    {
      "cell_type": "markdown",
      "metadata": {
        "id": "aTxCv-3cmtWh"
      },
      "source": [
        "**Задание 1 (1 балл)**. Используя `matplotlib`, выведите по одному примеру изображения для всех классов"
      ]
    },
    {
      "cell_type": "code",
      "execution_count": 19,
      "metadata": {
        "id": "Rrd3pcFXmtWh",
        "outputId": "0dde50bd-4006-43b2-ad3b-4ee5719ca22c",
        "colab": {
          "base_uri": "https://localhost:8080/",
          "height": 135
        }
      },
      "outputs": [
        {
          "output_type": "display_data",
          "data": {
            "text/plain": [
              "<Figure size 1500x200 with 10 Axes>"
            ],
            "image/png": "[encoded data removed]"
          },
          "metadata": {}
        }
      ],
      "source": [
        "import matplotlib.pyplot as plt\n",
        "\n",
        "label = [False for i in range(10)]\n",
        "\n",
        "fig, axes = plt.subplots(1, 10, figsize=(15, 2))\n",
        "\n",
        "for img, num in train_dataset:\n",
        "    if not label[num]:\n",
        "        axes[num].imshow(img.squeeze().view(28,28), cmap='gist_gray')\n",
        "        axes[num].axis('off')\n",
        "        label[num] = True\n"
      ]
    },
    {
      "cell_type": "markdown",
      "metadata": {
        "id": "fBz1YgW5mtWh"
      },
      "source": [
        "Попробуем получить минибатч:"
      ]
    },
    {
      "cell_type": "code",
      "execution_count": 11,
      "metadata": {
        "id": "HSMvKRxmmtWi"
      },
      "outputs": [],
      "source": [
        "batch_size = 4\n",
        "train_loader = DataLoader(train_dataset, batch_size=batch_size, shuffle=True)\n",
        "test_loader = DataLoader(test_dataset, batch_size=batch_size, shuffle=False)"
      ]
    },
    {
      "cell_type": "markdown",
      "metadata": {
        "id": "YWU-zgfLmtWi"
      },
      "source": [
        "Что возвращает `iter()`?"
      ]
    },
    {
      "cell_type": "code",
      "execution_count": 12,
      "metadata": {
        "id": "bSVWgdu3mtWi",
        "outputId": "6e35a8e5-5d10-4698-ff7a-3b8e8a6974ed",
        "colab": {
          "base_uri": "https://localhost:8080/"
        }
      },
      "outputs": [
        {
          "output_type": "stream",
          "name": "stdout",
          "text": [
            "torch.Size([4, 1, 28, 28])\n",
            "torch.Size([4])\n"
          ]
        }
      ],
      "source": [
        "batch: tuple[torch.Tensor, torch.Tensor] = next(iter(train_loader))\n",
        "x, y = batch\n",
        "print(x.shape)\n",
        "print(y.shape)"
      ]
    },
    {
      "cell_type": "markdown",
      "metadata": {
        "id": "BZKTVrRbmtWi"
      },
      "source": [
        "Со свёрточными сетями мы познакомимся позже, сейчас же мы будем экспериментировать с обычными полносвязными сетями, но для этого нам нужно будет преобразовать форму батча из `(batch_size, channels, width, height)` в `(batch_size, channels * width * height)`:"
      ]
    },
    {
      "cell_type": "markdown",
      "metadata": {
        "id": "mdH6Qp-9mtWj"
      },
      "source": [
        "**Задание 2 (1 балл)**. Есть несколько способов изменить форму (shape) тензора. Приведите все знаковые вам способы привести батч с изображениями в форму `(batch_size, channels * width * height)`"
      ]
    },
    {
      "cell_type": "code",
      "execution_count": 15,
      "metadata": {
        "id": "Dk7qct5HmtWj",
        "outputId": "f088151c-4810-411d-ae24-fb04c80af661",
        "colab": {
          "base_uri": "https://localhost:8080/"
        }
      },
      "outputs": [
        {
          "output_type": "stream",
          "name": "stdout",
          "text": [
            "torch.Size([4, 784])\n",
            "torch.Size([4, 784])\n",
            "torch.Size([4, 784])\n"
          ]
        }
      ],
      "source": [
        "batch_size, channels, width, height = x.shape\n",
        "input_dim = channels * width * height\n",
        "\n",
        "print(x.view(batch_size, -1).shape)\n",
        "print(x.reshape(batch_size, input_dim).shape)\n",
        "print(torch.flatten(x, 1).shape)"
      ]
    },
    {
      "cell_type": "markdown",
      "metadata": {
        "id": "48_x7m46mtWj"
      },
      "source": [
        "Ура, с данными вроде разобрались! Теперь разберёмся с моделью"
      ]
    },
    {
      "cell_type": "markdown",
      "metadata": {
        "id": "uS8wZWjNmtWj"
      },
      "source": [
        "### 2. Реализуем модель с помощью `torch.nn.Module`"
      ]
    },
    {
      "cell_type": "markdown",
      "metadata": {
        "id": "raPJpwoDmtWk"
      },
      "source": [
        "#### 2.1. Описываем параметры модели и прямой проход"
      ]
    },
    {
      "cell_type": "markdown",
      "metadata": {
        "id": "gZNwuh7hmtWk"
      },
      "source": [
        "Для простоты будем строить небольшую нейронку из двух полносвязных слоёв и `tanh` в качестве функции активации.\n",
        "\n",
        "$\\text{logits} = w_2^T(\\tanh(w_1^T x + b_1)) + b_2$\n",
        "\n",
        "Какие параметры должны быть в линейном слое?"
      ]
    },
    {
      "cell_type": "code",
      "execution_count": 20,
      "metadata": {
        "id": "ThRZyobFmtWk",
        "outputId": "bcafd223-10cd-49b2-89fd-52f79a5842ad",
        "colab": {
          "base_uri": "https://localhost:8080/"
        }
      },
      "outputs": [
        {
          "output_type": "stream",
          "name": "stdout",
          "text": [
            "<AddBackward0 object at 0x7d36bac1f100>\n",
            "torch.Size([4, 128])\n",
            "<AddBackward0 object at 0x7d36bac1db70>\n",
            "torch.Size([4, 10])\n"
          ]
        }
      ],
      "source": [
        "hidden_dim = 128  # размерность скрытого слоя\n",
        "n_classes = 10\n",
        "\n",
        "# первый слой\n",
        "w1 = torch.randn((input_dim, hidden_dim), requires_grad=True)\n",
        "b1 = torch.randn(hidden_dim, requires_grad=True)\n",
        "\n",
        "# второй слой\n",
        "w2 = torch.randn((hidden_dim, n_classes), requires_grad=True)\n",
        "b2 = torch.randn(n_classes, requires_grad=True)\n",
        "\n",
        "h = x.flatten(1) @ w1 + b1\n",
        "print(h.grad_fn)\n",
        "print(h.shape)\n",
        "\n",
        "# применяем нелинейность перед применением следующего слоя\n",
        "h = h.tanh()\n",
        "\n",
        "h = h @ w2 + b2\n",
        "print(h.grad_fn)\n",
        "print(h.shape)"
      ]
    },
    {
      "cell_type": "code",
      "execution_count": 21,
      "metadata": {
        "id": "30vH81OomtWk",
        "outputId": "881e5a3c-1e09-4b0f-b00a-0e7c1ddc5b5e",
        "colab": {
          "base_uri": "https://localhost:8080/"
        }
      },
      "outputs": [
        {
          "output_type": "execute_result",
          "data": {
            "text/plain": [
              "tensor([[  6.0172,   7.4072, -20.6861,   8.9256,  -5.4395,  -6.3682,   0.0770,\n",
              "           6.8564, -20.1673,  -9.1324],\n",
              "        [ -8.9642, -15.7704, -12.9448,   2.2937, -24.6293, -14.9430,  -0.0394,\n",
              "          -3.6719, -27.6249,  -9.3068],\n",
              "        [ -4.3937,  -0.6097, -28.6687,   7.9132, -10.3090,  -3.1383, -18.3530,\n",
              "           0.4476, -16.2507, -17.0004],\n",
              "        [ -3.8893,   4.6379,  -6.8515,  10.1379,  -4.4632,   4.5285,  -7.7709,\n",
              "          -2.0474, -12.9890,  -1.3313]], grad_fn=<AddBackward0>)"
            ]
          },
          "metadata": {},
          "execution_count": 21
        }
      ],
      "source": [
        "h"
      ]
    },
    {
      "cell_type": "markdown",
      "metadata": {
        "id": "UH4b-vGnmtWk"
      },
      "source": [
        "Из этих выходных данных нам хотелось бы получить вероятностное распределение над возможными классами, то есть нужно как-то нормализовать эти активации, для этого обычно используется функция `softmax`:"
      ]
    },
    {
      "cell_type": "code",
      "execution_count": 22,
      "metadata": {
        "id": "a3xvP7r6mtWk",
        "outputId": "beb8e3fb-ad93-4c9d-992a-2977b3b1c8a0",
        "colab": {
          "base_uri": "https://localhost:8080/"
        }
      },
      "outputs": [
        {
          "output_type": "execute_result",
          "data": {
            "text/plain": [
              "tensor([0.0420, 0.2254, 0.0424, 0.1480, 0.1133, 0.0393, 0.0123, 0.0224, 0.2780,\n",
              "        0.0768])"
            ]
          },
          "metadata": {},
          "execution_count": 22
        }
      ],
      "source": [
        "z = torch.randn(10)\n",
        "torch.softmax(z, 0)\n",
        "# zz = torch.exp(z) / torch.exp(z).sum()\n",
        "# zz.sum()"
      ]
    },
    {
      "cell_type": "markdown",
      "metadata": {
        "id": "pQrcH8qwmtWk"
      },
      "source": [
        "Применим к нашим данным:"
      ]
    },
    {
      "cell_type": "code",
      "execution_count": 23,
      "metadata": {
        "id": "CCUnJm1smtWk",
        "outputId": "6d7d5037-fdbe-4a93-f6fa-c8812aca5453",
        "colab": {
          "base_uri": "https://localhost:8080/"
        }
      },
      "outputs": [
        {
          "output_type": "execute_result",
          "data": {
            "text/plain": [
              "tensor([[3.8971e-02, 1.5647e-01, 9.8544e-14, 7.1426e-01, 4.1225e-07, 1.6286e-07,\n",
              "         1.0255e-04, 9.0202e-02, 1.6557e-13, 1.0264e-08],\n",
              "        [1.1736e-05, 1.2991e-08, 2.1916e-07, 9.0944e-01, 1.8462e-12, 2.9712e-08,\n",
              "         8.8209e-02, 2.3332e-03, 9.2313e-14, 8.3315e-06],\n",
              "        [4.5171e-06, 1.9870e-04, 1.2952e-16, 9.9921e-01, 1.2186e-08, 1.5851e-05,\n",
              "         3.9118e-12, 5.7199e-04, 3.2019e-11, 1.5129e-11],\n",
              "        [8.0301e-07, 4.0556e-03, 4.1520e-08, 9.9229e-01, 4.5237e-07, 3.6352e-03,\n",
              "         1.6557e-08, 5.0660e-06, 8.9697e-11, 1.0367e-05]],\n",
              "       grad_fn=<SoftmaxBackward0>)"
            ]
          },
          "metadata": {},
          "execution_count": 23
        }
      ],
      "source": [
        "h.softmax(dim=1)"
      ]
    },
    {
      "cell_type": "markdown",
      "metadata": {
        "id": "BJr8JWgLmtWl"
      },
      "source": [
        "Обратите внимание: классы получились совсем не равновероятны, хотя мы ещё не учили модель. Подумайте, почему так произошло?\n",
        "Подробнее это мы обсудим на следующей практике."
      ]
    },
    {
      "cell_type": "markdown",
      "metadata": {
        "id": "CSqES0sfmtWl"
      },
      "source": [
        "Параметры нашей модели находятся в глобальной области видимости. Решение - спрятать всё внутрь класса-наследника `torch.nn.Module`"
      ]
    },
    {
      "cell_type": "markdown",
      "metadata": {
        "id": "ROynLrWfmtWl"
      },
      "source": [
        "#### 2.2. Реализуем двуслойный перцептрон как наследник `nn.Module`"
      ]
    },
    {
      "cell_type": "markdown",
      "metadata": {
        "id": "4YDmFYXZmtWo"
      },
      "source": [
        "**Задание 3 (1 балл)**. Прочитайте документацию к классам `torch.nn.Module` и `torch.nn.Parameter`. Почему при задании параметров модели не стоит их создавать просто как `torch.tensor(..., requires_grad=True)`?"
      ]
    },
    {
      "cell_type": "code",
      "execution_count": 24,
      "metadata": {
        "id": "tbN-JcCXmtWo",
        "outputId": "5ef29e1c-b9d6-44bf-c838-6f528e1c3df8",
        "colab": {
          "base_uri": "https://localhost:8080/",
          "height": 106
        }
      },
      "outputs": [
        {
          "output_type": "error",
          "ename": "SyntaxError",
          "evalue": "invalid syntax (<ipython-input-24-4c9770baa3d2>, line 1)",
          "traceback": [
            "\u001b[0;36m  File \u001b[0;32m\"<ipython-input-24-4c9770baa3d2>\"\u001b[0;36m, line \u001b[0;32m1\u001b[0m\n\u001b[0;31m    torch.nn.Parameter - это подкласс torch.Tensor, которые помечается как обучаемый параметр модели, в отличии от тензорных данных\u001b[0m\n\u001b[0m                             ^\u001b[0m\n\u001b[0;31mSyntaxError\u001b[0m\u001b[0;31m:\u001b[0m invalid syntax\n"
          ]
        }
      ],
      "source": [
        "torch.nn.Parameter - это подкласс torch.Tensor, которые помечается как обучаемый параметр модели, в отличии от тензорных данных\n",
        "и когда мы создайм тензоры, как torch.nn.Parameter, модель понимает,\n",
        "что это именно те данные, которые нужно обучать и сохранять."
      ]
    },
    {
      "cell_type": "markdown",
      "metadata": {
        "id": "GWpu6Ma1mtWp"
      },
      "source": [
        "**Задание 4 (1 балл)**. Чтобы сделать наш модуль рабочим, нужно определить два метода: `__init__` и `forward`. Реализуйте метод `forward`, который возвращает логиты, т. е. выход последнего линейного слоя без применения функции активации `softmax`"
      ]
    },
    {
      "cell_type": "code",
      "execution_count": 16,
      "metadata": {
        "id": "0SjmUIU2mtWp"
      },
      "outputs": [],
      "source": [
        "class SimpleNet(torch.nn.Module):\n",
        "    def __init__(self, input_dim: int, hidden_dim: int, output_dim: int) -> None:\n",
        "        super().__init__()\n",
        "        self.w1 = torch.nn.Parameter(torch.randn(input_dim, hidden_dim))\n",
        "        self.b1 = torch.nn.Parameter(torch.randn(hidden_dim))\n",
        "\n",
        "        self.w2 = torch.nn.Parameter(torch.randn(hidden_dim, output_dim))\n",
        "        self.b2 = torch.nn.Parameter(torch.randn(output_dim))\n",
        "\n",
        "    def forward(self, x: torch.Tensor) -> torch.Tensor:\n",
        "        # ВАШ ХОД\n",
        "        logits = torch.tanh(x.flatten(1) @ self.w1 + self.b1) @ self.w2 + self.b2\n",
        "        return logits"
      ]
    },
    {
      "cell_type": "code",
      "execution_count": 17,
      "metadata": {
        "id": "68u9unHtmtWp",
        "outputId": "a83c4418-50cf-4c89-9794-e5e50ba25432",
        "colab": {
          "base_uri": "https://localhost:8080/",
          "height": 158
        }
      },
      "outputs": [
        {
          "output_type": "error",
          "ename": "NameError",
          "evalue": "name 'hidden_dim' is not defined",
          "traceback": [
            "\u001b[0;31m---------------------------------------------------------------------------\u001b[0m",
            "\u001b[0;31mNameError\u001b[0m                                 Traceback (most recent call last)",
            "\u001b[0;32m<ipython-input-17-dcfba3f6fb1c>\u001b[0m in \u001b[0;36m<cell line: 1>\u001b[0;34m()\u001b[0m\n\u001b[0;32m----> 1\u001b[0;31m \u001b[0mmodel\u001b[0m \u001b[0;34m=\u001b[0m \u001b[0mSimpleNet\u001b[0m\u001b[0;34m(\u001b[0m\u001b[0minput_dim\u001b[0m\u001b[0;34m,\u001b[0m \u001b[0mhidden_dim\u001b[0m\u001b[0;34m,\u001b[0m \u001b[0mn_classes\u001b[0m\u001b[0;34m)\u001b[0m\u001b[0;34m\u001b[0m\u001b[0;34m\u001b[0m\u001b[0m\n\u001b[0m\u001b[1;32m      2\u001b[0m \u001b[0mmodel\u001b[0m\u001b[0;34m(\u001b[0m\u001b[0mx\u001b[0m\u001b[0;34m)\u001b[0m\u001b[0;34m.\u001b[0m\u001b[0mshape\u001b[0m\u001b[0;34m\u001b[0m\u001b[0;34m\u001b[0m\u001b[0m\n",
            "\u001b[0;31mNameError\u001b[0m: name 'hidden_dim' is not defined"
          ]
        }
      ],
      "source": [
        "model = SimpleNet(input_dim, hidden_dim, n_classes)\n",
        "model(x).shape"
      ]
    },
    {
      "cell_type": "markdown",
      "metadata": {
        "id": "qQ4pCMVnmtWp"
      },
      "source": [
        "Параметры модели:"
      ]
    },
    {
      "cell_type": "code",
      "execution_count": null,
      "metadata": {
        "id": "UAivKxHkmtWp"
      },
      "outputs": [],
      "source": [
        "list(model.named_parameters())"
      ]
    },
    {
      "cell_type": "markdown",
      "metadata": {
        "id": "Cx-A_3mZmtWp"
      },
      "source": [
        "Вручную обновлять значения многих параметров очень неудобно. К счастью, за нас это сделает оптимизатор"
      ]
    },
    {
      "cell_type": "code",
      "execution_count": null,
      "metadata": {
        "id": "3r2jC9lCmtWp"
      },
      "outputs": [],
      "source": [
        "optimizer = torch.optim.SGD(params=model.parameters(), lr=0.01)\n",
        "print(optimizer)"
      ]
    },
    {
      "cell_type": "markdown",
      "metadata": {
        "id": "nSzQATGGmtWp"
      },
      "source": [
        "#### 2.1. Считаем ошибку и градиенты на одном минибатче"
      ]
    },
    {
      "cell_type": "code",
      "execution_count": null,
      "metadata": {
        "id": "GtYDUiykmtWp"
      },
      "outputs": [],
      "source": [
        "# получим предсказания и посчитаем ошибку\n",
        "predictions = model.forward(x)\n",
        "loss = torch.nn.functional.cross_entropy(predictions, y)\n",
        "print(loss)\n",
        "# рассчитаем градиенты и обновим параметры\n",
        "loss.backward()\n",
        "optimizer.step()\n",
        "\n",
        "# не забудем почистить градиенты, мы не хотим их накапливать\n",
        "optimizer.zero_grad()"
      ]
    },
    {
      "cell_type": "markdown",
      "metadata": {
        "id": "wn-9i4ClmtWq"
      },
      "source": [
        "**Задание 5 (1 балл)**: Посчитайте значение перекрёстной энтропии самостоятельно по формуле, сверьтесь с результатом выше"
      ]
    },
    {
      "cell_type": "code",
      "execution_count": null,
      "metadata": {
        "id": "oxzvuY_OmtWq"
      },
      "outputs": [],
      "source": [
        "# посчитайте ce_loss на основе значений переменных `predictions` и `y`\n",
        "# ВАШ ХОД\n",
        "ce_loss = ...\n",
        "assert torch.allclose(ce_loss, loss), f\"{ce_loss} != {loss}\""
      ]
    },
    {
      "cell_type": "markdown",
      "metadata": {
        "id": "WbdvpqQDmtWq"
      },
      "source": [
        "### 3. Обучение"
      ]
    },
    {
      "cell_type": "markdown",
      "metadata": {
        "id": "uCVtSMV8mtWq"
      },
      "source": [
        "#### 3.1. Шаг обучения: что мы делаем с каждым минибатчем данных"
      ]
    },
    {
      "cell_type": "code",
      "execution_count": null,
      "metadata": {
        "id": "Wx1Uor33mtWq"
      },
      "outputs": [],
      "source": [
        "def training_step(\n",
        "    batch: tuple[torch.Tensor, torch.Tensor],\n",
        "    model: torch.nn.Module,\n",
        "    optimizer: torch.optim.Optimizer,\n",
        ") -> tuple[torch.Tensor, torch.Tensor]:\n",
        "    # прогоняем батч через модель\n",
        "    x, y = batch\n",
        "    predictions = model(x)\n",
        "    # оцениваем значение ошибки\n",
        "    loss = torch.nn.functional.cross_entropy(predictions, y)\n",
        "    # обновляем параметры\n",
        "    loss.backward()\n",
        "    optimizer.step()\n",
        "    optimizer.zero_grad()\n",
        "    # возвращаем значение функции ошибки для логирования\n",
        "    return loss, predictions"
      ]
    },
    {
      "cell_type": "markdown",
      "metadata": {
        "id": "nmmaCq8vmtWq"
      },
      "source": [
        "Для тестовых батчей нам не нужны градиенты, поэтому расчёты делаем внутри контекста `torch.no_grad`"
      ]
    },
    {
      "cell_type": "code",
      "execution_count": null,
      "metadata": {
        "id": "B747gLRBmtWq"
      },
      "outputs": [],
      "source": [
        "def test_step(\n",
        "    batch: tuple[torch.Tensor, torch.Tensor], model: torch.nn.Module\n",
        ") -> tuple[torch.Tensor, torch.Tensor]:\n",
        "    x, y = batch\n",
        "    with torch.no_grad():\n",
        "        predictions = model(x)\n",
        "        # оцениваем значение ошибки\n",
        "        loss = torch.nn.functional.cross_entropy(predictions, y)\n",
        "    return loss, predictions"
      ]
    },
    {
      "cell_type": "markdown",
      "metadata": {
        "id": "V9rQ79K2mtWr"
      },
      "source": [
        "#### 3.2. А теперь: что мы хотим делать в каждой эпохе?"
      ]
    },
    {
      "cell_type": "markdown",
      "metadata": {
        "id": "uBPl6EBRmtWr"
      },
      "source": [
        "**Задание 6 (2 балла)**: Напишите функцию для запуска одной эпохи (обучающей или тестовой), которая итерируется по минибатчам, обрабатывает их и в конце выводит среднюю ошибку и точность классификации. Запустите обучение на 10-15 эпох, добейтесь точности более 92% на тестовой выборке."
      ]
    },
    {
      "cell_type": "code",
      "execution_count": null,
      "metadata": {
        "id": "Ucq1Ll27mtWr"
      },
      "outputs": [],
      "source": [
        "def run_epoch(\n",
        "    is_train: bool,\n",
        "    dataloader: DataLoader,\n",
        "    model: torch.nn.Module,\n",
        "    optimizer: torch.optim.Optimizer,\n",
        ") -> None:\n",
        "    # ВАШ ХОД\n",
        "\n",
        "    for batch in dataloader:\n",
        "        ...\n",
        "\n",
        "    epoch_loss = ...\n",
        "    accuracy = ...\n",
        "    print(f\"Loss: {epoch_loss:.4f}, Accuracy: {accuracy:.4f}\")"
      ]
    },
    {
      "cell_type": "markdown",
      "metadata": {
        "id": "r0lMG95omtWr"
      },
      "source": [
        "Создадим модель, оптимизатор и загрузчики данных и запустим обучение:"
      ]
    },
    {
      "cell_type": "code",
      "execution_count": null,
      "metadata": {
        "id": "lCt2I-bzmtWr"
      },
      "outputs": [],
      "source": [
        "n_epochs = 15\n",
        "for i in range(n_epochs):\n",
        "    print(f\"Epoch {i} train:\")\n",
        "    run_epoch(True, train_loader, model, optimizer)\n",
        "    print(f\"Epoch {i} test:\")\n",
        "    run_epoch(False, test_loader, model, optimizer)"
      ]
    }
  ],
  "metadata": {
    "kernelspec": {
      "display_name": "dl-course",
      "language": "python",
      "name": "python3"
    },
    "language_info": {
      "codemirror_mode": {
        "name": "ipython",
        "version": 3
      },
      "file_extension": ".py",
      "mimetype": "text/x-python",
      "name": "python",
      "nbconvert_exporter": "python",
      "pygments_lexer": "ipython3",
      "version": "3.12.5"
    },
    "orig_nbformat": 4,
    "colab": {
      "provenance": []
    }
  },
  "nbformat": 4,
  "nbformat_minor": 0
}