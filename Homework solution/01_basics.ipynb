{
  "cells": [
    {
      "cell_type": "markdown",
      "metadata": {
        "id": "mq1FT5M3kqCh"
      },
      "source": [
        "## Основы pytorch"
      ]
    },
    {
      "cell_type": "markdown",
      "metadata": {
        "id": "cVavnbsMkqCi"
      },
      "source": [
        "Для выполнения ДЗ создайте приватный репозиторий и добавьте `https://github.com/norsage` в collaborators (Settings -> Collaborators -> Add people)"
      ]
    },
    {
      "cell_type": "code",
      "execution_count": 19,
      "metadata": {
        "id": "WqCT-c7CkqCi"
      },
      "outputs": [],
      "source": [
        "import torch"
      ]
    },
    {
      "cell_type": "markdown",
      "metadata": {
        "id": "lxY0n7KmkqCj"
      },
      "source": [
        "#### 1. Операции над тензорами (1 балл)"
      ]
    },
    {
      "cell_type": "markdown",
      "metadata": {
        "id": "gZvpSQhIkqCj"
      },
      "source": [
        "##### 1.1 Среднее значение по столбцам"
      ]
    },
    {
      "cell_type": "code",
      "execution_count": 3,
      "metadata": {
        "id": "Ac8hl5gjkqCj",
        "outputId": "55628b23-541d-46ff-dafa-c275e8e538e7",
        "colab": {
          "base_uri": "https://localhost:8080/"
        }
      },
      "outputs": [
        {
          "output_type": "execute_result",
          "data": {
            "text/plain": [
              "tensor([[2., 7., 6.],\n",
              "        [4., 6., 5.]])"
            ]
          },
          "metadata": {},
          "execution_count": 3
        }
      ],
      "source": [
        "torch.manual_seed(42)\n",
        "x = torch.randint(10, size=(2, 3)).float()\n",
        "x"
      ]
    },
    {
      "cell_type": "code",
      "execution_count": 6,
      "metadata": {
        "id": "bHVVcKOwkqCj"
      },
      "outputs": [],
      "source": [
        "mean_by_row = x.mean(dim=0)\n",
        "assert torch.allclose(\n",
        "    mean_by_row, _expected := torch.tensor([3.0, 6.5, 5.5])\n",
        "), f\"{mean_by_row} != {_expected}\""
      ]
    },
    {
      "cell_type": "markdown",
      "metadata": {
        "id": "rC1LpPdPkqCj"
      },
      "source": [
        "##### 1.2. Взвешенное среднее\n",
        "В тензоре `w` находятся ненормализованные веса для расчёта взвешенных средних тензора `x` по строкам.\n",
        "\n",
        "Найдите эти взвешенные средние, получая нормализованные веса с помощью функции `torch.softmax` (или метода `.softmax`)"
      ]
    },
    {
      "cell_type": "code",
      "execution_count": 7,
      "metadata": {
        "id": "Rngbw_xhkqCk",
        "outputId": "c81e3b64-855b-4b6e-e8a1-2d019000b207",
        "colab": {
          "base_uri": "https://localhost:8080/"
        }
      },
      "outputs": [
        {
          "output_type": "stream",
          "name": "stdout",
          "text": [
            "tensor([[2., 7., 6.],\n",
            "        [4., 6., 5.]])\n",
            "tensor([[0., 4., 0.],\n",
            "        [3., 8., 4.]])\n"
          ]
        }
      ],
      "source": [
        "torch.manual_seed(42)\n",
        "x = torch.randint(10, size=(2, 3)).float()\n",
        "w = torch.randint(10, size=(2, 3)).float()\n",
        "print(x)\n",
        "print(w)"
      ]
    },
    {
      "cell_type": "code",
      "execution_count": 13,
      "metadata": {
        "id": "cLJeoDuAkqCk"
      },
      "outputs": [],
      "source": [
        "w_avg = (x * torch.softmax(w, dim=1)).sum(dim=1)\n",
        "assert torch.allclose(\n",
        "    w_avg, _expected := torch.tensor([6.8940, 5.9690])\n",
        "), f\"{w_avg} != {_expected}\""
      ]
    },
    {
      "cell_type": "markdown",
      "metadata": {
        "id": "_wtcFTvSkqCk"
      },
      "source": [
        "##### 1.3. Умножение матриц на векторы\n",
        "\n",
        "В тензоре `m` - две матрицы, нужно сделать тензор, в котором i-й элемент - результат умножения матрицы `m[i]` на вектор `x[i]`.\n",
        "\n",
        "Это можно было бы сделать так: `torch.stack([m[i] @ x[i] for i in len(m)])`.\n",
        "\n",
        "Попробуйте найти решение без цикла."
      ]
    },
    {
      "cell_type": "code",
      "execution_count": 14,
      "metadata": {
        "id": "gGBVUpC0kqCk",
        "outputId": "4eae12a9-e10c-4d92-efc0-fe73de885709",
        "colab": {
          "base_uri": "https://localhost:8080/"
        }
      },
      "outputs": [
        {
          "output_type": "stream",
          "name": "stdout",
          "text": [
            "tensor([[[0., 4., 0.],\n",
            "         [3., 8., 4.],\n",
            "         [0., 4., 1.]],\n",
            "\n",
            "        [[2., 5., 5.],\n",
            "         [7., 6., 9.],\n",
            "         [6., 3., 1.]]])\n",
            "tensor([[2., 7., 6.],\n",
            "        [4., 6., 5.]])\n"
          ]
        }
      ],
      "source": [
        "torch.manual_seed(42)\n",
        "x = torch.randint(10, size=(2, 3)).float()\n",
        "m = torch.randint(10, size=(2, 3, 3)).float()\n",
        "print(m)\n",
        "print(x)"
      ]
    },
    {
      "cell_type": "code",
      "execution_count": 15,
      "metadata": {
        "id": "0RSUlrrpkqCk"
      },
      "outputs": [],
      "source": [
        "matmul = torch.stack([m[0] @ x[0], m[1] @ x[1]])\n",
        "assert torch.allclose(\n",
        "    matmul, _expected := torch.tensor([[28.0, 86.0, 34.0], [63.0, 109.0, 47.0]])\n",
        "), f\"{matmul} != {_expected}\""
      ]
    },
    {
      "cell_type": "markdown",
      "metadata": {
        "id": "wAvWGGbCkqCk"
      },
      "source": [
        "##### 1.4. Матрица попарных расстояний\n",
        "\n",
        "Даны две матрицы `x` и `y`, нужно получить матрицу `d`, где `d[i, j]` - евклидово расстояние между векторами `x[i]` и `y[j]`.\n",
        "\n",
        "Подсказка 1: воспользуйтесь broadcasting и добавлением размерностей в исходные тензоры.\n",
        "\n",
        "Подсказка 2: можно не считать евклидово расстояние вручную, есть функция `torch.linalg.norm`\n",
        "\n"
      ]
    },
    {
      "cell_type": "code",
      "execution_count": 16,
      "metadata": {
        "id": "_JfowtuBkqCk",
        "outputId": "cf0e7b6f-c338-428a-bcb7-703085047716",
        "colab": {
          "base_uri": "https://localhost:8080/"
        }
      },
      "outputs": [
        {
          "output_type": "stream",
          "name": "stdout",
          "text": [
            "tensor([[2., 7., 6.],\n",
            "        [4., 6., 5.]])\n",
            "tensor([[0., 4., 0.],\n",
            "        [3., 8., 4.],\n",
            "        [0., 4., 1.]])\n"
          ]
        }
      ],
      "source": [
        "torch.manual_seed(42)\n",
        "x = torch.randint(10, size=(2, 3)).float()\n",
        "y = torch.randint(10, size=(3, 3)).float()\n",
        "print(x)\n",
        "print(y)"
      ]
    },
    {
      "cell_type": "code",
      "execution_count": 18,
      "metadata": {
        "id": "33R9AUblkqCl",
        "outputId": "d3feda83-2792-4e0a-df4a-3e7181c417d0",
        "colab": {
          "base_uri": "https://localhost:8080/"
        }
      },
      "outputs": [
        {
          "output_type": "stream",
          "name": "stdout",
          "text": [
            "tensor([[7.0000, 2.4495, 6.1644],\n",
            "        [6.7082, 2.4495, 6.0000]])\n"
          ]
        }
      ],
      "source": [
        "pdist = torch.linalg.norm(x[:, None, :] - y[None, :, :], dim=2)\n",
        "print(pdist)\n",
        "assert torch.allclose(\n",
        "    pdist,\n",
        "    _expected := torch.tensor([[7.0000, 2.4495, 6.1644], [6.7082, 2.4495, 6.0000]]),\n",
        "), f\"{pdist} != {_expected}\""
      ]
    },
    {
      "cell_type": "markdown",
      "metadata": {
        "id": "wSbq4mVTkqCl"
      },
      "source": [
        "#### 2. Функция Power (1 балл)\n",
        "Используя сложение и умножение, реализуйте возведение в целочисленную степень FloatTensor как функцию autograd (т.е. наследника `torch.autograd.Function`)"
      ]
    },
    {
      "cell_type": "code",
      "execution_count": 28,
      "metadata": {
        "id": "5yA-pe9CkqCl"
      },
      "outputs": [],
      "source": [
        "class Power(torch.autograd.Function):\n",
        "    @staticmethod\n",
        "    def forward(tensor, p):\n",
        "      tensor_ans = tensor\n",
        "      for i in range(p - 1):\n",
        "        tensor_ans *= tensor\n",
        "\n",
        "      if p == 0:\n",
        "          tensor_ans = torch.ones_like(tensor_ans)\n",
        "      return tensor_ans\n",
        "\n",
        "    @staticmethod\n",
        "    def setup_context(ctx, inputs, output):\n",
        "        tensor, p = inputs\n",
        "        ctx.pow = p\n",
        "        ctx.t = tensor\n",
        "\n",
        "    @staticmethod\n",
        "    def backward(ctx, grad_output):\n",
        "        return ctx.pow * forward(ctx.t, ctx.pow - 1)"
      ]
    },
    {
      "cell_type": "code",
      "execution_count": 29,
      "metadata": {
        "id": "thy-l7fEkqCl"
      },
      "outputs": [],
      "source": [
        "assert torch.all(Power.apply(torch.tensor([1, 2, 3]), 0) == torch.tensor([1, 1, 1]))\n",
        "assert torch.all(Power.apply(torch.tensor([1, 2, 3]), 2) == torch.tensor([1, 4, 9]))"
      ]
    },
    {
      "cell_type": "markdown",
      "metadata": {
        "id": "0dWB_RxpkqCl"
      },
      "source": [
        "#### 3. Многочлен (3 балла)\n",
        "Найдите корень (он один) заданного полинома (очень хорошего!) с точностью до пяти знаков после запятой:\n",
        "1. Используя бинарный поиск https://en.wikipedia.org/wiki/Binary_search_algorithm\n",
        "2. Используя метод Ньютона https://en.wikipedia.org/wiki/Newton%27s_method\n",
        "   \n",
        "   Задаётся начальное приближение вблизи предположительного корня, после чего строится касательная к графику исследуемой функции в точке приближения, для которой находится пересечение с осью абсцисс. Эта точка берётся в качестве следующего приближения. И так далее, пока не будет достигнута необходимая точность.\n",
        "   \n",
        "   (hint: для вычисления производных используйте метод `backward()`)\n",
        "   \n",
        "   $x_{n+1} = x_{n} - \\frac{f(x_n)}{f'(x_n)}$\n",
        "\n",
        "Сравните скорость методов с помощью `%%timeit`, т.е. оцените, какой из них найдёт ответ быстрее"
      ]
    },
    {
      "cell_type": "code",
      "execution_count": 40,
      "metadata": {
        "id": "0vYsZRmKkqCl"
      },
      "outputs": [],
      "source": [
        "from typing import Callable\n",
        "\n",
        "Polynomial = Callable[[torch.FloatTensor], torch.FloatTensor]\n",
        "\n",
        "\n",
        "def poly(x: torch.FloatTensor) -> torch.FloatTensor:\n",
        "    return x**7 + 5 * x**3 + 17 * x - 9"
      ]
    },
    {
      "cell_type": "code",
      "execution_count": 37,
      "metadata": {
        "id": "vlB_9UP0kqCl"
      },
      "outputs": [],
      "source": [
        "def bin_search_find_zero(poly: Polynomial) -> torch.FloatTensor:\n",
        "    \"\"\"Функция для бинарного поиска\"\"\"\n",
        "    l = 0\n",
        "    r = 5\n",
        "    while r - l > 10**-5:\n",
        "      m = (r + l) / 2\n",
        "      pi = poly(m)\n",
        "      if pi == 0:\n",
        "        l = m\n",
        "        break\n",
        "      elif pi > 0:\n",
        "        r = m\n",
        "      else:\n",
        "        l = m\n",
        "\n",
        "    return l"
      ]
    },
    {
      "cell_type": "code",
      "execution_count": 62,
      "metadata": {
        "id": "DIInuldKkqCl"
      },
      "outputs": [],
      "source": [
        "def newton_find_zero(poly: Polynomial) -> torch.FloatTensor:\n",
        "    \"\"\"Функция для метода Ньютона\"\"\"\n",
        "\n",
        "    # первое приближение (не забываем про то, что понадобится градиент!)\n",
        "    x = torch.tensor([0.0], requires_grad=True)\n",
        "\n",
        "    # останавливаемся, если значение функции достаточно близко к нулю\n",
        "    tol = 10**-5\n",
        "\n",
        "    # значение\n",
        "    val = poly(x)\n",
        "\n",
        "    # цикл обновления\n",
        "    while poly(x) < tol:  # когда останавливаемся?\n",
        "        # получаем градиент, обновляем значение x, оцениваем f(x)\n",
        "        # hint: нужны ли нам градиенты, когда мы обновляем x?\n",
        "        # hint: не забываем про обнуление градиента с прошлых шагов\n",
        "        val = poly(x)\n",
        "        val.backward(retain_graph=True)\n",
        "        x = x - poly(x) / x.grad\n",
        "\n",
        "    return x"
      ]
    },
    {
      "cell_type": "code",
      "execution_count": 59,
      "metadata": {
        "id": "ekNpzGs4kqCl",
        "outputId": "a450ffe8-a341-466e-85dc-a8af7ecc754d",
        "colab": {
          "base_uri": "https://localhost:8080/"
        }
      },
      "outputs": [
        {
          "output_type": "stream",
          "name": "stdout",
          "text": [
            "tensor([-9.], grad_fn=<SubBackward0>)\n",
            "tensor([0.5294], grad_fn=<SubBackward0>)\n",
            "tensor([0.5294], grad_fn=<SubBackward0>)\n",
            "tensor([0.7536], grad_fn=<SubBackward0>)\n"
          ]
        }
      ],
      "source": [
        "x = newton_find_zero(poly)\n",
        "print(x)\n",
        "print(poly(x))"
      ]
    },
    {
      "cell_type": "code",
      "execution_count": 63,
      "metadata": {
        "id": "BM5nVrqckqCl",
        "outputId": "3436bfd6-aea5-4052-ed0a-6009588f06c3",
        "colab": {
          "base_uri": "https://localhost:8080/"
        }
      },
      "outputs": [
        {
          "output_type": "stream",
          "name": "stdout",
          "text": [
            "450 µs ± 5.59 µs per loop (mean ± std. dev. of 7 runs, 1000 loops each)\n"
          ]
        }
      ],
      "source": [
        "%%timeit\n",
        "x = newton_find_zero(poly)"
      ]
    }
  ],
  "metadata": {
    "kernelspec": {
      "display_name": "a3d",
      "language": "python",
      "name": "python3"
    },
    "language_info": {
      "codemirror_mode": {
        "name": "ipython",
        "version": 3
      },
      "file_extension": ".py",
      "mimetype": "text/x-python",
      "name": "python",
      "nbconvert_exporter": "python",
      "pygments_lexer": "ipython3",
      "version": "3.12.5"
    },
    "orig_nbformat": 4,
    "colab": {
      "provenance": []
    }
  },
  "nbformat": 4,
  "nbformat_minor": 0
}